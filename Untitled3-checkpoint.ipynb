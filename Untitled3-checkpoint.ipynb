{
 "cells": [
  {
   "cell_type": "code",
   "execution_count": 21,
   "id": "108319e4-ae5d-4037-b633-cfb45eb4db31",
   "metadata": {},
   "outputs": [
    {
     "name": "stdout",
     "output_type": "stream",
     "text": [
      "department       cs       ec\n",
      "ename                       \n",
      "amar        15000.0      NaN\n",
      "ashwini         NaN  30000.0\n",
      "lohith          NaN  15000.0\n",
      "mohan       10000.0      NaN\n",
      "pramod          NaN  40000.0\n",
      "rohan       50000.0      NaN\n",
      "             sum     mean count\n",
      "          salary   salary      \n",
      "type                           \n",
      "adhoc      30000  15000.0     2\n",
      "contract   10000  10000.0     1\n",
      "regular   120000  40000.0     3\n"
     ]
    },
    {
     "data": {
      "image/png": "[encoded data removed]",
      "text/plain": [
       "<Figure size 1000x600 with 1 Axes>"
      ]
     },
     "metadata": {},
     "output_type": "display_data"
    },
    {
     "ename": "NameError",
     "evalue": "name 'plot' is not defined",
     "output_type": "error",
     "traceback": [
      "\u001b[1;31m---------------------------------------------------------------------------\u001b[0m",
      "\u001b[1;31mNameError\u001b[0m                                 Traceback (most recent call last)",
      "Cell \u001b[1;32mIn[21], line 21\u001b[0m\n\u001b[0;32m     19\u001b[0m plt\u001b[38;5;241m.\u001b[39mshow()\n\u001b[0;32m     20\u001b[0m plt\u001b[38;5;241m.\u001b[39mfigure(figsize\u001b[38;5;241m=\u001b[39m(\u001b[38;5;241m10\u001b[39m,\u001b[38;5;241m6\u001b[39m))\n\u001b[1;32m---> 21\u001b[0m plot\u001b[38;5;241m.\u001b[39mpie(df[\u001b[38;5;124m\"\u001b[39m\u001b[38;5;124mtype\u001b[39m\u001b[38;5;124m\"\u001b[39m]\u001b[38;5;241m.\u001b[39mvalue_counts,labels\u001b[38;5;241m=\u001b[39mdf[\u001b[38;5;124m\"\u001b[39m\u001b[38;5;124mtype\u001b[39m\u001b[38;5;124m\"\u001b[39m]\u001b[38;5;241m.\u001b[39munique(),autopct\u001b[38;5;241m=\u001b[39m\u001b[38;5;124m\"\u001b[39m\u001b[38;5;132;01m%1.1f\u001b[39;00m\u001b[38;5;132;01m%%\u001b[39;00m\u001b[38;5;124m\"\u001b[39m)\n\u001b[0;32m     22\u001b[0m plot\u001b[38;5;241m.\u001b[39mtitle\u001b[38;5;241m=\u001b[39m(\u001b[38;5;124m\"\u001b[39m\u001b[38;5;124memployee type distribution\u001b[39m\u001b[38;5;124m\"\u001b[39m)\n\u001b[0;32m     23\u001b[0m plt\u001b[38;5;241m.\u001b[39mshow()\n",
      "\u001b[1;31mNameError\u001b[0m: name 'plot' is not defined"
     ]
    },
    {
     "data": {
      "text/plain": [
       "<Figure size 1000x600 with 0 Axes>"
      ]
     },
     "metadata": {},
     "output_type": "display_data"
    }
   ],
   "source": [
    "import matplotlib.pyplot as plt\n",
    "import pandas as pd\n",
    "data={\"ename\":[\"rohan\",\"amar\",\"ashwini\",\"lohith\",\"mohan\",\"pramod\"],\n",
    "      \"type\":[\"regular\",\"adhoc\",\"regular\",\"adhoc\",\"contract\",\"regular\"],\n",
    "      \"department\":[\"cs\",\"cs\",\"ec\",\"ec\",\"cs\",\"ec\"],\n",
    "      \"experience\":[10,20,5,14,9,8],\n",
    "      \"salary\":[50000,15000,30000,15000,10000,40000]}\n",
    "df=pd.DataFrame(data)\n",
    "pivot1=df.pivot_table(index=\"ename\",columns=\"department\",values=\"salary\",aggfunc=\"mean\")\n",
    "print(pivot1)\n",
    "pivot2=df.pivot_table(index=\"type\",values=\"salary\",aggfunc=[\"sum\",\"mean\"])\n",
    "pivot2[\"count\"]=df[\"type\"].value_counts()\n",
    "print(pivot2)\n",
    "plt.figure(figsize=(10,6))\n",
    "plt.bar(df[\"type\"],df[\"salary\"])\n",
    "plt.xlabel=(\"type\")\n",
    "plt.ylable=(\"salary\")\n",
    "plt.title=(\"salary by type\")\n",
    "plt.show()\n",
    "plt.figure(figsize=(10,6))\n",
    "plt.pie(df[\"type\"].value_counts,labels=df[\"type\"].unique(),autopct=\"%1.1f%%\")\n",
    "plot.title=(\"employee type distribution\")\n",
    "plt.show()\n",
    "\n",
    "\n",
    "                     "
   ]
  },
  {
   "cell_type": "code",
   "execution_count": null,
   "id": "fa3b2736-7c2d-4387-ac8e-83e4117f6a1c",
   "metadata": {},
   "outputs": [],
   "source": []
  }
 ],
 "metadata": {
  "kernelspec": {
   "display_name": "Python 3 (ipykernel)",
   "language": "python",
   "name": "python3"
  },
  "language_info": {
   "codemirror_mode": {
    "name": "ipython",
    "version": 3
   },
   "file_extension": ".py",
   "mimetype": "text/x-python",
   "name": "python",
   "nbconvert_exporter": "python",
   "pygments_lexer": "ipython3",
   "version": "3.12.4"
  }
 },
 "nbformat": 4,
 "nbformat_minor": 5
}
